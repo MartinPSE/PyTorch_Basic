{
  "nbformat": 4,
  "nbformat_minor": 0,
  "metadata": {
    "colab": {
      "name": "LinearRegression.ipynb",
      "provenance": [],
      "toc_visible": true,
      "authorship_tag": "ABX9TyNNO1TE88YrRsJpumeYOqht",
      "include_colab_link": true
    },
    "kernelspec": {
      "name": "python3",
      "display_name": "Python 3"
    },
    "language_info": {
      "name": "python"
    }
  },
  "cells": [
    {
      "cell_type": "markdown",
      "metadata": {
        "id": "view-in-github",
        "colab_type": "text"
      },
      "source": [
        "<a href=\"https://colab.research.google.com/github/MartinPSE/PyTorch_Basic/blob/main/LinearRegression.ipynb\" target=\"_parent\"><img src=\"https://colab.research.google.com/assets/colab-badge.svg\" alt=\"Open In Colab\"/></a>"
      ]
    },
    {
      "cell_type": "markdown",
      "source": [
        "### 1. 데이터셋 구성\n",
        "---"
      ],
      "metadata": {
        "id": "aU6fclVDyr6A"
      }
    },
    {
      "cell_type": "code",
      "source": [
        "import torch\n",
        "\n",
        "x_train = torch.FloatTensor([[1],[2],[3]])\n",
        "y_train = torch.FloatTensor([[2],[4],[6]])"
      ],
      "metadata": {
        "id": "BtHXpoT7y2nb"
      },
      "execution_count": 1,
      "outputs": []
    },
    {
      "cell_type": "code",
      "source": [
        "import torch.nn as nn\n",
        "import torch.nn.functional as F\n",
        "import torch.optim as optim\n",
        "\n",
        "torch.manual_seed(1)"
      ],
      "metadata": {
        "colab": {
          "base_uri": "https://localhost:8080/"
        },
        "id": "afm1t9pLy9CU",
        "outputId": "5134a632-70b2-4687-c6ff-fa85a18207c5"
      },
      "execution_count": 2,
      "outputs": [
        {
          "output_type": "execute_result",
          "data": {
            "text/plain": [
              "<torch._C.Generator at 0x7f03680aeb10>"
            ]
          },
          "metadata": {},
          "execution_count": 2
        }
      ]
    },
    {
      "cell_type": "code",
      "source": [
        "print(x_train, x_train.shape)"
      ],
      "metadata": {
        "colab": {
          "base_uri": "https://localhost:8080/"
        },
        "id": "S9Jz1pUF0IAV",
        "outputId": "475b1cc1-41f4-4485-a054-d8d7e6f17270"
      },
      "execution_count": 3,
      "outputs": [
        {
          "output_type": "stream",
          "name": "stdout",
          "text": [
            "tensor([[1.],\n",
            "        [2.],\n",
            "        [3.]]) torch.Size([3, 1])\n"
          ]
        }
      ]
    },
    {
      "cell_type": "code",
      "source": [
        "# y= Wx + b 에서 가중치의 초기화 ( W , b)\n",
        "\n",
        "W = torch.zeros(1, requires_grad=True) # requires_grade = True ---> 학습을 통해서 계속 값이 변경되는 변수임을 의미\n",
        "b = torch.zeros(1, requires_grad=True)\n",
        "\n",
        "print(W , b)"
      ],
      "metadata": {
        "colab": {
          "base_uri": "https://localhost:8080/"
        },
        "id": "Pvnqrdtb0LGN",
        "outputId": "f6fa6c79-d92e-4900-86d2-98bd9ab95760"
      },
      "execution_count": 4,
      "outputs": [
        {
          "output_type": "stream",
          "name": "stdout",
          "text": [
            "tensor([0.], requires_grad=True) tensor([0.], requires_grad=True)\n"
          ]
        }
      ]
    },
    {
      "cell_type": "code",
      "source": [
        "# 가설세우기 \n",
        "hypo = x_train * W + b\n",
        "\n",
        "print(hypo)"
      ],
      "metadata": {
        "colab": {
          "base_uri": "https://localhost:8080/"
        },
        "id": "JQi8j6DV0arF",
        "outputId": "9bec0d5d-7061-4bd3-d2ef-00b160040969"
      },
      "execution_count": 5,
      "outputs": [
        {
          "output_type": "stream",
          "name": "stdout",
          "text": [
            "tensor([[0.],\n",
            "        [0.],\n",
            "        [0.]], grad_fn=<AddBackward0>)\n"
          ]
        }
      ]
    },
    {
      "cell_type": "code",
      "source": [
        "# cost function 정의\n",
        "\n",
        "cost = torch.mean((hypo - y_train ) ** 2 ) # 평균제곱오촤\n",
        "print(cost)"
      ],
      "metadata": {
        "colab": {
          "base_uri": "https://localhost:8080/"
        },
        "id": "KiYhIom91TTk",
        "outputId": "7a9a0d0a-3bf5-4fed-96d7-480d8cba426a"
      },
      "execution_count": 6,
      "outputs": [
        {
          "output_type": "stream",
          "name": "stdout",
          "text": [
            "tensor(18.6667, grad_fn=<MeanBackward0>)\n"
          ]
        }
      ]
    },
    {
      "cell_type": "code",
      "source": [
        "# SGD ( 경사하강법 구현하기 )\n",
        "\n",
        "optimizer = optim.SGD([W,b] , lr = 0.01)"
      ],
      "metadata": {
        "id": "Xh18Q3Et1euN"
      },
      "execution_count": 7,
      "outputs": []
    },
    {
      "cell_type": "code",
      "source": [
        "# gradient를 0으로 초기화\n",
        "optimizer.zero_grad() \n",
        "\n",
        "# 비용 함수를 미분하여 gradient 계산\n",
        "cost.backward() \n",
        "\n",
        "# W와 b를 업데이트\n",
        "# 학습률을 곱하고 빼줌으로써 업데이트까지 다 자동. \n",
        "optimizer.step() "
      ],
      "metadata": {
        "id": "izR4ESjF1kWU"
      },
      "execution_count": 8,
      "outputs": []
    },
    {
      "cell_type": "code",
      "source": [
        "epochs = 1999\n",
        "\n",
        "for epoch in range(epochs + 1 ):\n",
        "  hypo = x_train * W + b\n",
        "  cost = torch.mean((hypo - y_train )** 2 )\n",
        "\n",
        "  # cost 로 H(x) = W(x) + b 개선\n",
        "  optimizer.zero_grad()\n",
        "  cost.backward()\n",
        "  optimizer.step()\n",
        "\n",
        "  if epoch % 100 == 0:\n",
        "    print('Epoch {:4}/{} W: {:.3f}, b : {:.3f},  Cost : {:.6f}'.format(\n",
        "        epoch, epochs, W.item(), b.item(), cost.item()\n",
        "    ) )"
      ],
      "metadata": {
        "colab": {
          "base_uri": "https://localhost:8080/"
        },
        "id": "92h3C2e34Gu2",
        "outputId": "2faa7a3d-4647-441f-aa0e-2df66502b691"
      },
      "execution_count": 14,
      "outputs": [
        {
          "output_type": "stream",
          "name": "stdout",
          "text": [
            "Epoch    0/1999 W: 1.998, b : 0.004,  Cost : 0.000002\n",
            "Epoch  100/1999 W: 1.999, b : 0.003,  Cost : 0.000001\n",
            "Epoch  200/1999 W: 1.999, b : 0.002,  Cost : 0.000001\n",
            "Epoch  300/1999 W: 1.999, b : 0.002,  Cost : 0.000000\n",
            "Epoch  400/1999 W: 1.999, b : 0.001,  Cost : 0.000000\n",
            "Epoch  500/1999 W: 2.000, b : 0.001,  Cost : 0.000000\n",
            "Epoch  600/1999 W: 2.000, b : 0.001,  Cost : 0.000000\n",
            "Epoch  700/1999 W: 2.000, b : 0.001,  Cost : 0.000000\n",
            "Epoch  800/1999 W: 2.000, b : 0.001,  Cost : 0.000000\n",
            "Epoch  900/1999 W: 2.000, b : 0.000,  Cost : 0.000000\n",
            "Epoch 1000/1999 W: 2.000, b : 0.000,  Cost : 0.000000\n",
            "Epoch 1100/1999 W: 2.000, b : 0.000,  Cost : 0.000000\n",
            "Epoch 1200/1999 W: 2.000, b : 0.000,  Cost : 0.000000\n",
            "Epoch 1300/1999 W: 2.000, b : 0.000,  Cost : 0.000000\n",
            "Epoch 1400/1999 W: 2.000, b : 0.000,  Cost : 0.000000\n",
            "Epoch 1500/1999 W: 2.000, b : 0.000,  Cost : 0.000000\n",
            "Epoch 1600/1999 W: 2.000, b : 0.000,  Cost : 0.000000\n",
            "Epoch 1700/1999 W: 2.000, b : 0.000,  Cost : 0.000000\n",
            "Epoch 1800/1999 W: 2.000, b : 0.000,  Cost : 0.000000\n",
            "Epoch 1900/1999 W: 2.000, b : 0.000,  Cost : 0.000000\n"
          ]
        }
      ]
    },
    {
      "cell_type": "markdown",
      "source": [
        "### Optimizer.zero_grad()가 필요한 이유\n",
        "---\n",
        "  파이토치는 미분을 통해 얻은 기울기를 이전에 계산된 기울기 값에 누적시키는 특징이 있다. \n",
        "\n"
      ],
      "metadata": {
        "id": "Ln0LW8v44kOP"
      }
    },
    {
      "cell_type": "code",
      "source": [
        "import torch\n",
        "\n",
        "w = torch.tensor(2.0, requires_grad= True)\n",
        "\n",
        "epochs = 20\n",
        "# optimizer = optim.SGD([w], lr=0.01)\n",
        "\n",
        "for epoch in range(epochs+1):\n",
        "  z = 2 * w\n",
        "  # optimizer.zero_grad()\n",
        "  z.backward()\n",
        "\n",
        "  print('수식을 w로 미분한 값 : {}'.format(w.grad))"
      ],
      "metadata": {
        "colab": {
          "base_uri": "https://localhost:8080/"
        },
        "id": "o-fgrxsr4-9X",
        "outputId": "554dfcf4-f737-4792-d5ed-714855598f3b"
      },
      "execution_count": 20,
      "outputs": [
        {
          "output_type": "stream",
          "name": "stdout",
          "text": [
            "수식을 w로 미분한 값 : 2.0\n",
            "수식을 w로 미분한 값 : 4.0\n",
            "수식을 w로 미분한 값 : 6.0\n",
            "수식을 w로 미분한 값 : 8.0\n",
            "수식을 w로 미분한 값 : 10.0\n",
            "수식을 w로 미분한 값 : 12.0\n",
            "수식을 w로 미분한 값 : 14.0\n",
            "수식을 w로 미분한 값 : 16.0\n",
            "수식을 w로 미분한 값 : 18.0\n",
            "수식을 w로 미분한 값 : 20.0\n",
            "수식을 w로 미분한 값 : 22.0\n",
            "수식을 w로 미분한 값 : 24.0\n",
            "수식을 w로 미분한 값 : 26.0\n",
            "수식을 w로 미분한 값 : 28.0\n",
            "수식을 w로 미분한 값 : 30.0\n",
            "수식을 w로 미분한 값 : 32.0\n",
            "수식을 w로 미분한 값 : 34.0\n",
            "수식을 w로 미분한 값 : 36.0\n",
            "수식을 w로 미분한 값 : 38.0\n",
            "수식을 w로 미분한 값 : 40.0\n",
            "수식을 w로 미분한 값 : 42.0\n"
          ]
        }
      ]
    },
    {
      "cell_type": "markdown",
      "source": [
        "### torch.manual_seed() \n",
        "---\n",
        "  seed는 고정해줘야 난수에 영향 안받고, 수행가능하지~"
      ],
      "metadata": {
        "id": "wBj1MgLr5KL1"
      }
    },
    {
      "cell_type": "markdown",
      "source": [
        "## 자동 미분 ( Autograd) \n"
      ],
      "metadata": {
        "id": "USyyKcJL5tqe"
      }
    },
    {
      "cell_type": "markdown",
      "source": [
        "![image.png](data:image/png;base64,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)"
      ],
      "metadata": {
        "id": "aU0GCnI673zE"
      }
    },
    {
      "cell_type": "markdown",
      "source": [
        "### 실습\n",
        "---\n",
        "$$ 2w^2 + 5 \\, 라는\\,식을\\, 세워보고, \\,w에\\,대해\\, 미분해보자 $$"
      ],
      "metadata": {
        "id": "qV8PvZjz756k"
      }
    },
    {
      "cell_type": "code",
      "source": [
        "w = torch.tensor(2.0, requires_grad= True)\n",
        "\n",
        "y = w ** 2 # w^2\n",
        "z = 2 * y + 5 # 2w^2 + 5"
      ],
      "metadata": {
        "id": "VUMOaOxL8HMh"
      },
      "execution_count": 28,
      "outputs": []
    },
    {
      "cell_type": "code",
      "source": [
        "z.backward()\n",
        "print('수식을 w = 2 로 미분한 값 {}'.format(w.grad))"
      ],
      "metadata": {
        "colab": {
          "base_uri": "https://localhost:8080/"
        },
        "id": "EaHsQywe8dI9",
        "outputId": "9c4dcad4-e7a9-4904-a120-4943756cfaca"
      },
      "execution_count": 29,
      "outputs": [
        {
          "output_type": "stream",
          "name": "stdout",
          "text": [
            "수식을 w = 2 로 미분한 값 8.0\n"
          ]
        }
      ]
    },
    {
      "cell_type": "markdown",
      "source": [
        "## 2. 다중 선형 회귀 (Multivariable Linear regression)\n",
        "---\n",
        "  "
      ],
      "metadata": {
        "id": "T-4CCKcS8wQD"
      }
    },
    {
      "cell_type": "markdown",
      "source": [
        "$$ H(x) = w_1x_1 + w_2x_2+w_3x_3 + b $$\n",
        "\n",
        "![image.png](data:image/png;base64,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)"
      ],
      "metadata": {
        "id": "qjJzb_M19FTI"
      }
    },
    {
      "cell_type": "code",
      "source": [
        "# 훈련 데이터\n",
        "x1_train = torch.FloatTensor([[73], [93], [89], [96], [73]])\n",
        "x2_train = torch.FloatTensor([[80], [88], [91], [98], [66]])\n",
        "x3_train = torch.FloatTensor([[75], [93], [90], [100], [70]])\n",
        "y_train = torch.FloatTensor([[152], [185], [180], [196], [142]])"
      ],
      "metadata": {
        "id": "K38fco4F9Jd8"
      },
      "execution_count": 30,
      "outputs": []
    },
    {
      "cell_type": "code",
      "source": [
        "# 가중치 w와 편향 b 초기화\n",
        "w1 = torch.zeros(1, requires_grad=True)\n",
        "w2 = torch.zeros(1, requires_grad=True)\n",
        "w3 = torch.zeros(1, requires_grad=True)\n",
        "b = torch.zeros(1, requires_grad=True)"
      ],
      "metadata": {
        "id": "DUKMeJ9c9lTV"
      },
      "execution_count": 31,
      "outputs": []
    },
    {
      "cell_type": "code",
      "source": [
        "# optimizer 설정\n",
        "\n",
        "optimizer = optim.SGD([w1, w2, w3, b] , lr= 1e-5)\n",
        "\n",
        "epochs = 1000\n",
        "for epoch in range(epochs + 1 ):\n",
        "\n",
        "  hypothesis = x1_train * w1 + x2_train * w2 + x3_train *w3 + b\n",
        "\n",
        "  # cost 를 계산\n",
        "  cost = torch.mean((hypothesis - y_train) ** 2 )\n",
        "\n",
        "  # cost 로 H(x)를 개선\n",
        "  optimizer.zero_grad()\n",
        "  cost.backward()\n",
        "  optimizer.step()\n",
        "\n",
        "  # 100번 마다 로그 출력\n",
        "  if epoch % 200 == 0 :\n",
        "    print('Epoch {:4d}/{} w1: {:.3f} w2: {:.3f} w3: {:.3f} b: {:.3f} Cost: {:.6f}'.format(\n",
        "            epoch, epochs, w1.item(), w2.item(), w3.item(), b.item(), cost.item()\n",
        "        ))"
      ],
      "metadata": {
        "colab": {
          "base_uri": "https://localhost:8080/"
        },
        "id": "SD4mP0PC9rw3",
        "outputId": "0b537f2b-82d1-4e69-e43f-da573fd34e44"
      },
      "execution_count": 34,
      "outputs": [
        {
          "output_type": "stream",
          "name": "stdout",
          "text": [
            "Epoch    0/1000 w1: 0.459 w2: 0.458 w3: 0.464 b: 0.005 Cost: 9298.520508\n",
            "Epoch  200/1000 w1: 0.679 w2: 0.655 w3: 0.677 b: 0.008 Cost: 1.496967\n",
            "Epoch  400/1000 w1: 0.689 w2: 0.643 w3: 0.678 b: 0.008 Cost: 1.375144\n",
            "Epoch  600/1000 w1: 0.699 w2: 0.633 w3: 0.679 b: 0.009 Cost: 1.265695\n",
            "Epoch  800/1000 w1: 0.709 w2: 0.622 w3: 0.679 b: 0.009 Cost: 1.167346\n",
            "Epoch 1000/1000 w1: 0.718 w2: 0.612 w3: 0.680 b: 0.009 Cost: 1.078964\n"
          ]
        }
      ]
    },
    {
      "cell_type": "markdown",
      "source": [
        "### 벡터와 행렬 연산으로 바꾸기\n",
        "---\n",
        "  일일이 w, x 를 선언하는건 비효율적이다. 이를 해결하기 위해 행렬 곱셈 연산을 사용"
      ],
      "metadata": {
        "id": "gZ_s5FTJ94ck"
      }
    },
    {
      "cell_type": "markdown",
      "source": [
        "![image.png](data:image/png;base64,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)"
      ],
      "metadata": {
        "id": "SfYMDen7-UX-"
      }
    },
    {
      "cell_type": "markdown",
      "source": [
        "#### 벡터 연산으로 이해해보면\n",
        "---\n",
        "![image.png](data:image/png;base64,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)"
      ],
      "metadata": {
        "id": "7Nr2aA5H-Xk3"
      }
    },
    {
      "cell_type": "markdown",
      "source": [
        "$$ H(X) = XW $$"
      ],
      "metadata": {
        "id": "S8KLQEcn--1c"
      }
    },
    {
      "cell_type": "markdown",
      "source": [
        "#### 행렬 연산으로 이해해보면\n",
        "---\n",
        "![image.png](data:image/png;base64,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)"
      ],
      "metadata": {
        "id": "SoQz0ZGt_Dfc"
      }
    },
    {
      "cell_type": "markdown",
      "source": [
        "$$H(X) = XW + B$$"
      ],
      "metadata": {
        "id": "shqH2IDn_IAs"
      }
    },
    {
      "cell_type": "markdown",
      "source": [
        "### 행렬 연산을 고려하여 같은 걸 구현해보자"
      ],
      "metadata": {
        "id": "TBiLuiwq_OG2"
      }
    },
    {
      "cell_type": "code",
      "source": [
        "# 우선 데이터들 또한 행렬로 바꿔줘야해\n",
        "x_train  =  torch.FloatTensor([[73,  80,  75], \n",
        "                               [93,  88,  93], \n",
        "                               [89,  91,  80], \n",
        "                               [96,  98,  100],   \n",
        "                               [73,  66,  70]])  \n",
        "y_train  =  torch.FloatTensor([[152],  [185],  [180],  [196],  [142]])"
      ],
      "metadata": {
        "id": "Z7jQBXqT_XcG"
      },
      "execution_count": 35,
      "outputs": []
    },
    {
      "cell_type": "code",
      "source": [
        "# W와 b 또한 설정\n",
        "\n",
        "W = torch.zeros( (3,1) , requires_grad= True ) # 5 x 3 (x_train.shape) 이랑 곱할수 있는 형태로 만들어줘야해 \n",
        "b = torch.zeros(1, requires_grad= True)\n"
      ],
      "metadata": {
        "id": "tGkllgTp_k3E"
      },
      "execution_count": 41,
      "outputs": []
    },
    {
      "cell_type": "code",
      "source": [
        "# 가설설정\n",
        "\n",
        "hypothesis = x_train.matmul(W) + b"
      ],
      "metadata": {
        "id": "L3-pU4VQ_zVs"
      },
      "execution_count": 42,
      "outputs": []
    },
    {
      "cell_type": "code",
      "source": [
        "optimizer = optim.SGD([W,b], lr = 1e-5)\n",
        "\n",
        "epochs = 20\n",
        "for epoch in range(epochs + 1 ):\n",
        "  # H(x) 계산\n",
        "  hypothesis = x_train.matmul(W) + b\n",
        "  # cost 계산\n",
        "  cost = torch.mean((hypothesis - y_train) ** 2 )\n",
        "\n",
        "  # H(X) 개선\n",
        "  optimizer.zero_grad()\n",
        "  cost.backward()\n",
        "  optimizer.step()\n",
        "\n",
        "  print('Epoch {:4d}/{} hypothesis: {} Cost: {:.6f}'.format(\n",
        "        epoch, epochs, hypothesis.squeeze().detach(), cost.item()\n",
        "    ))"
      ],
      "metadata": {
        "colab": {
          "base_uri": "https://localhost:8080/"
        },
        "id": "FyNToQGA_2nE",
        "outputId": "92108b5d-d7ae-47c4-b51c-d90fa2864e0a"
      },
      "execution_count": 45,
      "outputs": [
        {
          "output_type": "stream",
          "name": "stdout",
          "text": [
            "Epoch    0/20 hypothesis: tensor([66.7178, 80.1701, 76.1025, 86.0194, 61.1565]) Cost: 9537.694336\n",
            "Epoch    1/20 hypothesis: tensor([104.5421, 125.6208, 119.2478, 134.7862,  95.8280]) Cost: 3069.590088\n",
            "Epoch    2/20 hypothesis: tensor([125.9858, 151.3882, 143.7087, 162.4333, 115.4844]) Cost: 990.670288\n",
            "Epoch    3/20 hypothesis: tensor([138.1429, 165.9963, 157.5768, 178.1071, 126.6283]) Cost: 322.481873\n",
            "Epoch    4/20 hypothesis: tensor([145.0350, 174.2780, 165.4395, 186.9928, 132.9461]) Cost: 107.717064\n",
            "Epoch    5/20 hypothesis: tensor([148.9423, 178.9730, 169.8976, 192.0301, 136.5279]) Cost: 38.687496\n",
            "Epoch    6/20 hypothesis: tensor([151.1574, 181.6346, 172.4254, 194.8856, 138.5585]) Cost: 16.499043\n",
            "Epoch    7/20 hypothesis: tensor([152.4131, 183.1435, 173.8590, 196.5043, 139.7097]) Cost: 9.365656\n",
            "Epoch    8/20 hypothesis: tensor([153.1250, 183.9988, 174.6723, 197.4217, 140.3625]) Cost: 7.071114\n",
            "Epoch    9/20 hypothesis: tensor([153.5285, 184.4835, 175.1338, 197.9415, 140.7325]) Cost: 6.331847\n",
            "Epoch   10/20 hypothesis: tensor([153.7572, 184.7582, 175.3958, 198.2360, 140.9424]) Cost: 6.092532\n",
            "Epoch   11/20 hypothesis: tensor([153.8868, 184.9138, 175.5449, 198.4026, 141.0613]) Cost: 6.013817\n",
            "Epoch   12/20 hypothesis: tensor([153.9602, 185.0019, 175.6299, 198.4969, 141.1288]) Cost: 5.986785\n",
            "Epoch   13/20 hypothesis: tensor([154.0017, 185.0517, 175.6785, 198.5500, 141.1671]) Cost: 5.976325\n",
            "Epoch   14/20 hypothesis: tensor([154.0252, 185.0798, 175.7065, 198.5800, 141.1888]) Cost: 5.971208\n",
            "Epoch   15/20 hypothesis: tensor([154.0385, 185.0956, 175.7229, 198.5966, 141.2012]) Cost: 5.967835\n",
            "Epoch   16/20 hypothesis: tensor([154.0459, 185.1045, 175.7326, 198.6059, 141.2082]) Cost: 5.964969\n",
            "Epoch   17/20 hypothesis: tensor([154.0501, 185.1094, 175.7386, 198.6108, 141.2122]) Cost: 5.962291\n",
            "Epoch   18/20 hypothesis: tensor([154.0524, 185.1120, 175.7424, 198.6134, 141.2145]) Cost: 5.959664\n",
            "Epoch   19/20 hypothesis: tensor([154.0536, 185.1134, 175.7451, 198.6145, 141.2158]) Cost: 5.957089\n",
            "Epoch   20/20 hypothesis: tensor([154.0543, 185.1140, 175.7470, 198.6150, 141.2166]) Cost: 5.954494\n"
          ]
        }
      ]
    },
    {
      "cell_type": "markdown",
      "source": [
        "## nn.Module로 구현하는 선형 회귀\n",
        "---\n",
        "  파이토치에서 구현되어져 있는걸로 쉽게 해보자!"
      ],
      "metadata": {
        "id": "0MxQTazo-8jx"
      }
    },
    {
      "cell_type": "code",
      "source": [
        "import torch\n",
        "import torch.nn as nn\n",
        "import torch.nn.functional as F\n",
        "\n",
        "torch.manual_seed(1)\n"
      ],
      "metadata": {
        "colab": {
          "base_uri": "https://localhost:8080/"
        },
        "id": "UpUrJ-2c_Kbt",
        "outputId": "95c9f57a-4fee-4db5-f176-c404987f8e79"
      },
      "execution_count": 47,
      "outputs": [
        {
          "output_type": "execute_result",
          "data": {
            "text/plain": [
              "<torch._C.Generator at 0x7f03680aeb10>"
            ]
          },
          "metadata": {},
          "execution_count": 47
        }
      ]
    },
    {
      "cell_type": "code",
      "source": [
        "X_train = torch.FloatTensor([[1],[2],[3]])\n",
        "y_train = torch.FloatTensor([[2],[4],[6]])\n",
        "\n",
        "# 모델을 선언 및 초기화 / input_dim = 1 , output_dim = 1\n",
        "model = nn.Linear(1,1)"
      ],
      "metadata": {
        "id": "4BixUwLkCcEF"
      },
      "execution_count": 52,
      "outputs": []
    },
    {
      "cell_type": "code",
      "source": [
        "print(list(model.parameters()))"
      ],
      "metadata": {
        "colab": {
          "base_uri": "https://localhost:8080/"
        },
        "id": "gaSadh2gCpzE",
        "outputId": "7741cc7c-d7e4-4f62-d133-c98a25c80078"
      },
      "execution_count": 53,
      "outputs": [
        {
          "output_type": "stream",
          "name": "stdout",
          "text": [
            "[Parameter containing:\n",
            "tensor([[-0.1939]], requires_grad=True), Parameter containing:\n",
            "tensor([0.4694], requires_grad=True)]\n"
          ]
        }
      ]
    },
    {
      "cell_type": "code",
      "source": [
        "optimizer = optim.SGD(model.parameters(), lr=0.01)\n",
        "\n",
        "epochs = 2000\n",
        "for epoch in range(epochs+1):\n",
        "  prediction = model(X_train)\n",
        "\n",
        "  # loss 계산\n",
        "  cost = F.mse_loss(prediction, y_train)\n",
        "\n",
        "  # H(x) 개선\n",
        "  optimizer.zero_grad()\n",
        "  cost.backward()\n",
        "  optimizer.step()\n",
        "\n",
        "  if epoch % 100 == 0:\n",
        "    print('Epoch : {:4d} / {}, Cost : {:.6f}'.format(\n",
        "        epoch, epochs, cost\n",
        "    ))"
      ],
      "metadata": {
        "colab": {
          "base_uri": "https://localhost:8080/"
        },
        "id": "Mi4KrHJTCroE",
        "outputId": "ba9fad39-688e-49f2-f6e3-0052007e8e68"
      },
      "execution_count": 56,
      "outputs": [
        {
          "output_type": "stream",
          "name": "stdout",
          "text": [
            "Epoch :    0 / 2000, Cost : 0.078748\n",
            "Epoch :  100 / 2000, Cost : 0.048661\n",
            "Epoch :  200 / 2000, Cost : 0.030070\n",
            "Epoch :  300 / 2000, Cost : 0.018581\n",
            "Epoch :  400 / 2000, Cost : 0.011482\n",
            "Epoch :  500 / 2000, Cost : 0.007095\n",
            "Epoch :  600 / 2000, Cost : 0.004384\n",
            "Epoch :  700 / 2000, Cost : 0.002709\n",
            "Epoch :  800 / 2000, Cost : 0.001674\n",
            "Epoch :  900 / 2000, Cost : 0.001035\n",
            "Epoch : 1000 / 2000, Cost : 0.000639\n",
            "Epoch : 1100 / 2000, Cost : 0.000395\n",
            "Epoch : 1200 / 2000, Cost : 0.000244\n",
            "Epoch : 1300 / 2000, Cost : 0.000151\n",
            "Epoch : 1400 / 2000, Cost : 0.000093\n",
            "Epoch : 1500 / 2000, Cost : 0.000058\n",
            "Epoch : 1600 / 2000, Cost : 0.000036\n",
            "Epoch : 1700 / 2000, Cost : 0.000022\n",
            "Epoch : 1800 / 2000, Cost : 0.000014\n",
            "Epoch : 1900 / 2000, Cost : 0.000008\n",
            "Epoch : 2000 / 2000, Cost : 0.000005\n"
          ]
        }
      ]
    },
    {
      "cell_type": "code",
      "source": [
        "new_var = torch.FloatTensor([[4]])\n",
        "\n",
        "pred_y = model(new_var)\n",
        "print('예측값 ', pred_y)"
      ],
      "metadata": {
        "colab": {
          "base_uri": "https://localhost:8080/"
        },
        "id": "9hs2EzIQDLIl",
        "outputId": "431ae0d1-1577-4881-9ce4-dfc98f44412c"
      },
      "execution_count": 57,
      "outputs": [
        {
          "output_type": "stream",
          "name": "stdout",
          "text": [
            "예측값  tensor([[7.9954]], grad_fn=<AddmmBackward0>)\n"
          ]
        }
      ]
    },
    {
      "cell_type": "code",
      "source": [
        "# 예측 parameter를 보자\n",
        "print(list(model.parameters()))"
      ],
      "metadata": {
        "colab": {
          "base_uri": "https://localhost:8080/"
        },
        "id": "w6lXfOLyDZ0E",
        "outputId": "283b6dce-4ae5-4f6d-f4b6-4886bf81eb6f"
      },
      "execution_count": 59,
      "outputs": [
        {
          "output_type": "stream",
          "name": "stdout",
          "text": [
            "[Parameter containing:\n",
            "tensor([[1.9974]], requires_grad=True), Parameter containing:\n",
            "tensor([0.0060], requires_grad=True)]\n"
          ]
        }
      ]
    },
    {
      "cell_type": "markdown",
      "source": [
        "과정을 정리해보면\n",
        "  * H(X) 식에 x로부터 예측된 y를 얻는 것을 forward 연산이라고 하고\n",
        "  * 학습 전, prediction = model(x_train)은 x_train으로 부터 예측값을 리턴 하는 forward\n",
        "  * 학습 후, pred_y = model(new_var)는 임의의 값 new_var로부터 예측값을 리턴하므로 forward\n",
        "  * 학습 과정에서 비용 함수(cost, 손실함수)를 미분하여 기울기를 구하는 것을 backward연산 (stochastic gradient descent를 하는 과정)\n",
        "  * cost.backward()는 비용 함수로부터 기울기를 구하라는 의미이며 backward 연산"
      ],
      "metadata": {
        "id": "5HFubUdxEvCa"
      }
    },
    {
      "cell_type": "markdown",
      "source": [
        "### 다중 선형 회귀 구현\n",
        "---\n",
        "  nn.Linear 동일하게 사용해서"
      ],
      "metadata": {
        "id": "soPCqg7FFJLH"
      }
    },
    {
      "cell_type": "markdown",
      "source": [
        "$$ 동일한 \\, 가설 $$\n",
        "$$ H(X) =  w_1 x_1 + w_2 x_2 + w_3 x_3 + b $$"
      ],
      "metadata": {
        "id": "5wPbAbKGFTKT"
      }
    },
    {
      "cell_type": "code",
      "source": [
        "# 데이터\n",
        "x_train = torch.FloatTensor([[73, 80, 75],\n",
        "                             [93, 88, 93],\n",
        "                             [89, 91, 90],\n",
        "                             [96, 98, 100],\n",
        "                             [73, 66, 70]])\n",
        "y_train = torch.FloatTensor([[152], [185], [180], [196], [142]])"
      ],
      "metadata": {
        "id": "FJmkogzeFQjk"
      },
      "execution_count": 76,
      "outputs": []
    },
    {
      "cell_type": "code",
      "source": [
        "x_train.shape"
      ],
      "metadata": {
        "colab": {
          "base_uri": "https://localhost:8080/"
        },
        "id": "JVe4tfpWFcHV",
        "outputId": "939ac90f-1104-4915-ff68-ed8762c457e1"
      },
      "execution_count": 77,
      "outputs": [
        {
          "output_type": "execute_result",
          "data": {
            "text/plain": [
              "torch.Size([5, 3])"
            ]
          },
          "metadata": {},
          "execution_count": 77
        }
      ]
    },
    {
      "cell_type": "code",
      "source": [
        "# input 차원은 당연히 3차원이다. (x가 3개지요)\n",
        "# output 차원은 당연히 값을 1개 예측하므로 1차원 \n",
        "model = nn.Linear(3, 1)"
      ],
      "metadata": {
        "id": "tFr5K1E_Fai3"
      },
      "execution_count": 78,
      "outputs": []
    },
    {
      "cell_type": "code",
      "source": [
        "print(list(model.parameters()))"
      ],
      "metadata": {
        "colab": {
          "base_uri": "https://localhost:8080/"
        },
        "id": "N95JQUEQFlL1",
        "outputId": "1576d1ce-40a8-4da3-a2ad-ea4895cd4beb"
      },
      "execution_count": 79,
      "outputs": [
        {
          "output_type": "stream",
          "name": "stdout",
          "text": [
            "[Parameter containing:\n",
            "tensor([[ 0.0803, -0.0707,  0.1601]], requires_grad=True), Parameter containing:\n",
            "tensor([0.0285], requires_grad=True)]\n"
          ]
        }
      ]
    },
    {
      "cell_type": "code",
      "source": [
        "# 여기서 lr 은 0.01로 하게되면 발산하게 된다. \n",
        "\n",
        "# 실험\n",
        "# cost가 nan 값이 나온다 (?) --> 발산함을 확인\n",
        "# optimizer = torch.optim.SGD(model.parameters(), lr = 0.01)\n",
        "\n",
        "optimizer = torch.optim.SGD(model.parameters(), lr = 1e-5)\n"
      ],
      "metadata": {
        "id": "NFisPfbxGM-p"
      },
      "execution_count": 80,
      "outputs": []
    },
    {
      "cell_type": "code",
      "source": [
        "epochs = 2000\n",
        "for epoch in range(epochs + 1):\n",
        "  prediction = model(x_train)\n",
        "\n",
        "  cost = F.mse_loss(prediction, y_train)\n",
        "\n",
        "  # H(x) Tunning \n",
        "  optimizer.zero_grad()\n",
        "  cost.backward()\n",
        "  optimizer.step()\n",
        "\n",
        "  if epoch % 100 == 0:\n",
        "    print(f'{epoch} / {epochs} , cost : {cost.item():.3f}')"
      ],
      "metadata": {
        "colab": {
          "base_uri": "https://localhost:8080/"
        },
        "id": "dCYDv1klGXxs",
        "outputId": "25d85204-fb98-4810-f512-c61a5ee8229a"
      },
      "execution_count": 83,
      "outputs": [
        {
          "output_type": "stream",
          "name": "stdout",
          "text": [
            "0 / 2000 , cost : 0.432\n",
            "100 / 2000 , cost : 0.429\n",
            "200 / 2000 , cost : 0.425\n",
            "300 / 2000 , cost : 0.422\n",
            "400 / 2000 , cost : 0.418\n",
            "500 / 2000 , cost : 0.415\n",
            "600 / 2000 , cost : 0.412\n",
            "700 / 2000 , cost : 0.409\n",
            "800 / 2000 , cost : 0.406\n",
            "900 / 2000 , cost : 0.404\n",
            "1000 / 2000 , cost : 0.401\n",
            "1100 / 2000 , cost : 0.398\n",
            "1200 / 2000 , cost : 0.396\n",
            "1300 / 2000 , cost : 0.393\n",
            "1400 / 2000 , cost : 0.391\n",
            "1500 / 2000 , cost : 0.389\n",
            "1600 / 2000 , cost : 0.387\n",
            "1700 / 2000 , cost : 0.385\n",
            "1800 / 2000 , cost : 0.383\n",
            "1900 / 2000 , cost : 0.381\n",
            "2000 / 2000 , cost : 0.379\n"
          ]
        }
      ]
    },
    {
      "cell_type": "code",
      "source": [
        "new_var = torch.FloatTensor([[73,80,75]])\n",
        "\n",
        "pred_y = model(new_var)\n",
        "\n",
        "print('예측한 값 ', pred_y)"
      ],
      "metadata": {
        "colab": {
          "base_uri": "https://localhost:8080/"
        },
        "id": "-nzeCcw4GtDV",
        "outputId": "dca2b14a-116e-4870-9db2-74ee95146eec"
      },
      "execution_count": 84,
      "outputs": [
        {
          "output_type": "stream",
          "name": "stdout",
          "text": [
            "예측한 값  tensor([[151.3241]], grad_fn=<AddmmBackward0>)\n"
          ]
        }
      ]
    },
    {
      "cell_type": "code",
      "source": [
        "# 학습 후 파라미터 확인~\n",
        "print(list(model.parameters()))"
      ],
      "metadata": {
        "colab": {
          "base_uri": "https://localhost:8080/"
        },
        "id": "0FGopnA-HSrl",
        "outputId": "32f56f1d-d054-4e15-dead-557382f609fb"
      },
      "execution_count": 85,
      "outputs": [
        {
          "output_type": "stream",
          "name": "stdout",
          "text": [
            "[Parameter containing:\n",
            "tensor([[0.8146, 0.4438, 0.7508]], requires_grad=True), Parameter containing:\n",
            "tensor([0.0441], requires_grad=True)]\n"
          ]
        }
      ]
    },
    {
      "cell_type": "markdown",
      "source": [
        "## Class로 위 과정 구현하기\n",
        "---\n",
        "\n",
        "  익숙해지기"
      ],
      "metadata": {
        "id": "RHLp2xNVHZjV"
      }
    },
    {
      "cell_type": "code",
      "source": [
        "\n",
        "class Model(nn.Module): # 대부분의 모델은 PyTorch의 nn.Module을 상속받는다.\n",
        "  def __init__(self):  # 클래스 초기화\n",
        "    super().__init__() # nn.Module 클래스의 속성들을 가지고 초기화 \n",
        "    self.linear = nn.Linear(1,1) # input_dim, output_dim 만 바꾸면 다중도 동일한 방법이겠죠? \n",
        "  \n",
        "  def forward(self, x): \n",
        "    return self.linear(x)\n"
      ],
      "metadata": {
        "id": "bDl92kcsHkFg"
      },
      "execution_count": 94,
      "outputs": []
    },
    {
      "cell_type": "code",
      "source": [
        "model = Model()"
      ],
      "metadata": {
        "id": "Uj_utO8vH0pc"
      },
      "execution_count": 95,
      "outputs": []
    },
    {
      "cell_type": "code",
      "source": [
        "X_train = torch.FloatTensor([[1],[2],[3]])\n",
        "y_train = torch.FloatTensor([[2],[4],[6]])\n",
        "\n",
        "optimizer = optim.SGD(model.parameters(), lr = 0.01 )"
      ],
      "metadata": {
        "id": "qcnzXq8-IdQm"
      },
      "execution_count": 99,
      "outputs": []
    },
    {
      "cell_type": "code",
      "source": [
        "# Training 그대로\n",
        "epochs = 2000\n",
        "for epoch in range(epochs + 1 ):\n",
        "  prediction = model(X_train)\n",
        "  \n",
        "  cost = F.mse_loss(prediction, y_train)\n",
        "  \n",
        "  # H(x) 개선\n",
        "  optimizer.zero_grad() # 초기화\n",
        "  cost.backward() # backward를 통해 cost 최소화 Local Minimum 을 찾자\n",
        "  optimizer.step() # 진행! Update\n",
        "\n",
        "  if epoch % 200 == 0 :\n",
        "    print(f'{epoch} / {epochs}, Cost : {cost:.3f}')\n",
        "  \n",
        "\n",
        "\n"
      ],
      "metadata": {
        "colab": {
          "base_uri": "https://localhost:8080/"
        },
        "id": "ZQNeoDDWH7ak",
        "outputId": "3c875357-3f7c-4ca4-8c2c-1900e53f4c9b"
      },
      "execution_count": 100,
      "outputs": [
        {
          "output_type": "stream",
          "name": "stdout",
          "text": [
            "0 / 2000, Cost : 20.807\n",
            "200 / 2000, Cost : 0.026\n",
            "400 / 2000, Cost : 0.010\n",
            "600 / 2000, Cost : 0.004\n",
            "800 / 2000, Cost : 0.001\n",
            "1000 / 2000, Cost : 0.001\n",
            "1200 / 2000, Cost : 0.000\n",
            "1400 / 2000, Cost : 0.000\n",
            "1600 / 2000, Cost : 0.000\n",
            "1800 / 2000, Cost : 0.000\n",
            "2000 / 2000, Cost : 0.000\n"
          ]
        }
      ]
    },
    {
      "cell_type": "code",
      "source": [
        ""
      ],
      "metadata": {
        "id": "lwLGwCzyI3F9"
      },
      "execution_count": null,
      "outputs": []
    }
  ]
}