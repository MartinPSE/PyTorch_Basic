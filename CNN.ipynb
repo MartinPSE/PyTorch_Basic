{
  "nbformat": 4,
  "nbformat_minor": 0,
  "metadata": {
    "colab": {
      "name": "CNN.ipynb",
      "provenance": [],
      "collapsed_sections": [
        "o4bJ2OGFl1uR"
      ],
      "toc_visible": true,
      "authorship_tag": "ABX9TyMJrtIC8NY3S5f1sAjU2zHQ",
      "include_colab_link": true
    },
    "kernelspec": {
      "name": "python3",
      "display_name": "Python 3"
    },
    "language_info": {
      "name": "python"
    }
  },
  "cells": [
    {
      "cell_type": "markdown",
      "metadata": {
        "id": "view-in-github",
        "colab_type": "text"
      },
      "source": [
        "<a href=\"https://colab.research.google.com/github/MartinPSE/PyTorch_Basic/blob/main/CNN.ipynb\" target=\"_parent\"><img src=\"https://colab.research.google.com/assets/colab-badge.svg\" alt=\"Open In Colab\"/></a>"
      ]
    },
    {
      "cell_type": "markdown",
      "source": [
        "## 합성곰과 풀링 ( Convolution and Pooling)\n",
        "---\n",
        "  "
      ],
      "metadata": {
        "id": "w3R3oqQh0Vrj"
      }
    },
    {
      "cell_type": "markdown",
      "source": [
        "### CNN 으로 MNIST 분류"
      ],
      "metadata": {
        "id": "-T8efSYRej-H"
      }
    },
    {
      "cell_type": "markdown",
      "source": [
        "#### 1."
      ],
      "metadata": {
        "id": "o4bJ2OGFl1uR"
      }
    },
    {
      "cell_type": "code",
      "source": [
        "import torch\n",
        "import torch.nn as nn"
      ],
      "metadata": {
        "id": "h5hnmSly0crP"
      },
      "execution_count": 1,
      "outputs": []
    },
    {
      "cell_type": "code",
      "source": [
        "inputs = torch.Tensor(1,1,28,28)"
      ],
      "metadata": {
        "id": "ixQfzE6sehoh"
      },
      "execution_count": 12,
      "outputs": []
    },
    {
      "cell_type": "code",
      "source": [
        "# 천천히 단계별로\n",
        "\n",
        "conv1 = nn.Conv2d(1, 32, 3, padding = 1)\n",
        "conv2 = nn.Conv2d(32,64, 3, padding = 1)\n",
        "pool = nn.MaxPool2d(2)\n",
        "\n"
      ],
      "metadata": {
        "id": "2_NCPPljecwh"
      },
      "execution_count": 13,
      "outputs": []
    },
    {
      "cell_type": "code",
      "source": [
        "out = conv1(inputs)\n",
        "print(out.shape)"
      ],
      "metadata": {
        "colab": {
          "base_uri": "https://localhost:8080/"
        },
        "id": "5YdTHrYEe_CZ",
        "outputId": "ca21e635-5f57-49ea-f549-9729d9deb389"
      },
      "execution_count": 14,
      "outputs": [
        {
          "output_type": "stream",
          "name": "stdout",
          "text": [
            "torch.Size([1, 32, 28, 28])\n"
          ]
        }
      ]
    },
    {
      "cell_type": "code",
      "source": [
        "out = pool(out)\n",
        "print(out.shape)"
      ],
      "metadata": {
        "colab": {
          "base_uri": "https://localhost:8080/"
        },
        "id": "hYCzJSR3fR4_",
        "outputId": "0a9117f1-4721-443e-e8cc-5e8516cb038b"
      },
      "execution_count": 15,
      "outputs": [
        {
          "output_type": "stream",
          "name": "stdout",
          "text": [
            "torch.Size([1, 32, 14, 14])\n"
          ]
        }
      ]
    },
    {
      "cell_type": "code",
      "source": [
        "out = conv2(out)\n",
        "print(out.shape)"
      ],
      "metadata": {
        "colab": {
          "base_uri": "https://localhost:8080/"
        },
        "id": "cbz2PLLNfAaw",
        "outputId": "d0e61024-1942-411e-b55b-63a1583eb072"
      },
      "execution_count": 16,
      "outputs": [
        {
          "output_type": "stream",
          "name": "stdout",
          "text": [
            "torch.Size([1, 64, 14, 14])\n"
          ]
        }
      ]
    },
    {
      "cell_type": "code",
      "source": [
        "out = pool(out)\n",
        "print(out.shape)"
      ],
      "metadata": {
        "colab": {
          "base_uri": "https://localhost:8080/"
        },
        "id": "9Dq2t2XbfO-X",
        "outputId": "1f7a6ed6-addb-4f76-efdb-9d943e225ebf"
      },
      "execution_count": 17,
      "outputs": [
        {
          "output_type": "stream",
          "name": "stdout",
          "text": [
            "torch.Size([1, 64, 7, 7])\n"
          ]
        }
      ]
    },
    {
      "cell_type": "code",
      "source": [
        "out.size(0)"
      ],
      "metadata": {
        "colab": {
          "base_uri": "https://localhost:8080/"
        },
        "id": "CshXcIDjftq2",
        "outputId": "74f82bf1-862b-4559-aeb7-98d2de190813"
      },
      "execution_count": 22,
      "outputs": [
        {
          "output_type": "execute_result",
          "data": {
            "text/plain": [
              "1"
            ]
          },
          "metadata": {},
          "execution_count": 22
        }
      ]
    },
    {
      "cell_type": "code",
      "source": [
        "# 펼치고 --> FullyConnected\n",
        "\n",
        "out = out.view(out.size(0), -1)\n",
        "# out --> (1, 64*7*7)\n",
        "\n",
        "print(out.shape)\n",
        "\n",
        "fc = nn.Linear(3136, 10) # input_dim --> 64 * 7 * 7 , output_dim = class 갯수\n",
        "out = fc(out)\n",
        "print(out.shape)"
      ],
      "metadata": {
        "colab": {
          "base_uri": "https://localhost:8080/"
        },
        "id": "6YlkVA89fcx3",
        "outputId": "153bc727-80f2-43f6-e770-5168e69157d3"
      },
      "execution_count": 23,
      "outputs": [
        {
          "output_type": "stream",
          "name": "stdout",
          "text": [
            "torch.Size([1, 3136])\n",
            "torch.Size([1, 10])\n"
          ]
        }
      ]
    },
    {
      "cell_type": "markdown",
      "source": [
        "#### 2. 실습"
      ],
      "metadata": {
        "id": "FaK6y69Tf_c1"
      }
    },
    {
      "cell_type": "code",
      "source": [
        "import torch\n",
        "import torch.nn as nn\n",
        "import torch.optim as optim\n",
        "import torchvision.datasets as dsets\n",
        "import torchvision.transforms as transforms\n",
        "import torch.nn.init"
      ],
      "metadata": {
        "id": "YVilJ1prffPv"
      },
      "execution_count": 52,
      "outputs": []
    },
    {
      "cell_type": "code",
      "source": [
        "\n",
        "device = 'cuda' if torch.cuda.is_available() else 'cpu'\n",
        "\n",
        "# 랜덤 시드 고정\n",
        "torch.manual_seed(777)\n",
        "\n",
        "# GPU 사용 가능일 경우 랜덤 시드 고정\n",
        "if device == 'cuda':\n",
        "    torch.cuda.manual_seed_all(777)"
      ],
      "metadata": {
        "id": "JnQ-h-TygBW4"
      },
      "execution_count": 53,
      "outputs": []
    },
    {
      "cell_type": "code",
      "source": [
        "learning_rate = 0.001\n",
        "training_epochs = 15\n",
        "batch_size = 100"
      ],
      "metadata": {
        "id": "4_TKsT5ugDv4"
      },
      "execution_count": 54,
      "outputs": []
    },
    {
      "cell_type": "code",
      "source": [
        "mnist_train = dsets.MNIST(root='MNIST_data/', # 다운로드 경로 지정\n",
        "                          train=True, # True를 지정하면 훈련 데이터로 다운로드\n",
        "                          transform=transforms.ToTensor(), # 텐서로 변환, 정규화는 따로 안하고\n",
        "                          download=True)\n",
        "\n",
        "mnist_test = dsets.MNIST(root='MNIST_data/', # 다운로드 경로 지정\n",
        "                         train=False, # False를 지정하면 테스트 데이터로 다운로드\n",
        "                         transform=transforms.ToTensor(), # 텐서로 변환\n",
        "                         download=True)"
      ],
      "metadata": {
        "id": "M7kGt78AgGL3"
      },
      "execution_count": 55,
      "outputs": []
    },
    {
      "cell_type": "code",
      "source": [
        "data_loader = torch.utils.data.DataLoader(dataset = mnist_train,\n",
        "                                     batch_size=batch_size,\n",
        "                                     shuffle= True,\n",
        "                                     drop_last = True)"
      ],
      "metadata": {
        "id": "rIco9SHLhPVz"
      },
      "execution_count": 56,
      "outputs": []
    },
    {
      "cell_type": "code",
      "source": [
        "for X, Y in data_loader:\n",
        "  print(X.shape, Y.shape)\n",
        "  break"
      ],
      "metadata": {
        "colab": {
          "base_uri": "https://localhost:8080/"
        },
        "id": "eDxWhReNl_nT",
        "outputId": "55c904ee-42e6-49eb-aec6-dcc9c721cbc2"
      },
      "execution_count": 62,
      "outputs": [
        {
          "output_type": "stream",
          "name": "stdout",
          "text": [
            "torch.Size([100, 1, 28, 28]) torch.Size([100])\n"
          ]
        }
      ]
    },
    {
      "cell_type": "code",
      "source": [
        "class CNN(nn.Module):\n",
        "\n",
        "  def __init__(self):\n",
        "    super(CNN, self).__init__()\n",
        "    self.conv1 = nn.Sequential(\n",
        "        nn.Conv2d(1, 32, kernel_size = 3, stride=1 , padding = 1),\n",
        "        nn.ReLU(),\n",
        "        nn.MaxPool2d(kernel_size= 2, stride=2))\n",
        "    \n",
        "    self.conv2 = nn.Sequential(\n",
        "        nn.Conv2d(32,64, kernel_size = 3,stride=1, padding=1),\n",
        "        nn.ReLU(),\n",
        "        nn.MaxPool2d(kernel_size = 2, stride=2)\n",
        "    )\n",
        "    self.fc = nn.Linear(7 * 7 * 64, 10 , bias=True)\n",
        "\n",
        "    # wjsrufgkqcmd gkswjddmfh rkwndcl chrlghk\n",
        "    nn.init.xavier_uniform_(self.fc.weight) # _ 해야 적용되죠?\n",
        "\n",
        "  def forward(self, x):\n",
        "    x = self.conv1(x)\n",
        "    x = self.conv2(x)\n",
        "    # 쭉 늘리고 FC\n",
        "    x = x.view(x.size(0),- 1)\n",
        "    x = self.fc(x)\n",
        "    return x\n"
      ],
      "metadata": {
        "id": "v_dBoky8hYNB"
      },
      "execution_count": 68,
      "outputs": []
    },
    {
      "cell_type": "code",
      "source": [
        "model = CNN().to(device)"
      ],
      "metadata": {
        "id": "Y7qjtpPckELF"
      },
      "execution_count": 69,
      "outputs": []
    },
    {
      "cell_type": "code",
      "source": [
        "# cost function / optimizer\n",
        "\n",
        "criterion = nn.CrossEntropyLoss().to(device)\n",
        "optimizer = optim.Adam(model.parameters(), lr= learning_rate)\n"
      ],
      "metadata": {
        "id": "L_6ceIwokFdJ"
      },
      "execution_count": 70,
      "outputs": []
    },
    {
      "cell_type": "code",
      "source": [
        "total_batch = len(data_loader)\n",
        "print(f'총 배치의 수 : {total_batch}')"
      ],
      "metadata": {
        "colab": {
          "base_uri": "https://localhost:8080/"
        },
        "id": "I_7k8myHkaN4",
        "outputId": "0040e593-52d7-4077-9aa9-b5b6dca52b5d"
      },
      "execution_count": 71,
      "outputs": [
        {
          "output_type": "stream",
          "name": "stdout",
          "text": [
            "총 배치의 수 : 600\n"
          ]
        }
      ]
    },
    {
      "cell_type": "code",
      "source": [
        "for epoch in range(training_epochs):\n",
        "  avg_cost = 0\n",
        "\n",
        "  for X, Y in data_loader:\n",
        "    X = X.to(device)\n",
        "    Y = Y.to(device)\n",
        "\n",
        "    optimizer.zero_grad()\n",
        "    prediction = model(X)\n",
        "    cost = criterion(prediction, Y)\n",
        "    cost.backward()\n",
        "\n",
        "    optimizer.step()\n",
        "\n",
        "    avg_cost += cost / total_batch\n",
        "  print(f'[ Epoch {epoch + 1:>4}] cost : {avg_cost:>.9}')\n",
        "    "
      ],
      "metadata": {
        "colab": {
          "base_uri": "https://localhost:8080/"
        },
        "id": "G7schsgJkfPI",
        "outputId": "ed00cc73-aafc-4a4b-ed08-fbe16f5d60f5"
      },
      "execution_count": 72,
      "outputs": [
        {
          "output_type": "stream",
          "name": "stdout",
          "text": [
            "[ Epoch    1] cost : 0.224709436\n",
            "[ Epoch    2] cost : 0.0647233948\n",
            "[ Epoch    3] cost : 0.0475874059\n",
            "[ Epoch    4] cost : 0.0384270102\n",
            "[ Epoch    5] cost : 0.0314613841\n",
            "[ Epoch    6] cost : 0.0258141477\n",
            "[ Epoch    7] cost : 0.0229033101\n",
            "[ Epoch    8] cost : 0.0180390459\n",
            "[ Epoch    9] cost : 0.0166602172\n",
            "[ Epoch   10] cost : 0.0137007805\n",
            "[ Epoch   11] cost : 0.0117342155\n",
            "[ Epoch   12] cost : 0.0102496948\n",
            "[ Epoch   13] cost : 0.00940447301\n",
            "[ Epoch   14] cost : 0.00884143822\n",
            "[ Epoch   15] cost : 0.0064844857\n"
          ]
        }
      ]
    },
    {
      "cell_type": "code",
      "source": [
        "mnist_test"
      ],
      "metadata": {
        "colab": {
          "base_uri": "https://localhost:8080/"
        },
        "id": "wMuK3tQPqdD6",
        "outputId": "83abfb33-b1a1-4116-90e8-3a32229a5944"
      },
      "execution_count": 78,
      "outputs": [
        {
          "output_type": "execute_result",
          "data": {
            "text/plain": [
              "Dataset MNIST\n",
              "    Number of datapoints: 10000\n",
              "    Root location: MNIST_data/\n",
              "    Split: Test\n",
              "    StandardTransform\n",
              "Transform: ToTensor()"
            ]
          },
          "metadata": {},
          "execution_count": 78
        }
      ]
    },
    {
      "cell_type": "code",
      "source": [
        "X_test = mnist_test.test_data.view(len(mnist_test), 1,28,28).float().to(device)\n",
        "X_test.shape"
      ],
      "metadata": {
        "colab": {
          "base_uri": "https://localhost:8080/"
        },
        "id": "4wwBKA2bqQxg",
        "outputId": "d8283bff-b6d5-46e0-ba8f-b53e014c78c1"
      },
      "execution_count": 77,
      "outputs": [
        {
          "output_type": "stream",
          "name": "stderr",
          "text": [
            "/usr/local/lib/python3.7/dist-packages/torchvision/datasets/mnist.py:67: UserWarning: test_data has been renamed data\n",
            "  warnings.warn(\"test_data has been renamed data\")\n"
          ]
        },
        {
          "output_type": "execute_result",
          "data": {
            "text/plain": [
              "torch.Size([10000, 1, 28, 28])"
            ]
          },
          "metadata": {},
          "execution_count": 77
        }
      ]
    },
    {
      "cell_type": "code",
      "source": [
        "model()"
      ],
      "metadata": {
        "colab": {
          "base_uri": "https://localhost:8080/"
        },
        "id": "HZZXi58aq8ye",
        "outputId": "8a233556-d51f-4aff-d3d6-985585359d3b"
      },
      "execution_count": 84,
      "outputs": [
        {
          "output_type": "execute_result",
          "data": {
            "text/plain": [
              "CNN(\n",
              "  (conv1): Sequential(\n",
              "    (0): Conv2d(1, 32, kernel_size=(3, 3), stride=(1, 1), padding=(1, 1))\n",
              "    (1): ReLU()\n",
              "    (2): MaxPool2d(kernel_size=2, stride=2, padding=0, dilation=1, ceil_mode=False)\n",
              "  )\n",
              "  (conv2): Sequential(\n",
              "    (0): Conv2d(32, 64, kernel_size=(3, 3), stride=(1, 1), padding=(1, 1))\n",
              "    (1): ReLU()\n",
              "    (2): MaxPool2d(kernel_size=2, stride=2, padding=0, dilation=1, ceil_mode=False)\n",
              "  )\n",
              "  (fc): Linear(in_features=3136, out_features=10, bias=True)\n",
              ")"
            ]
          },
          "metadata": {},
          "execution_count": 84
        }
      ]
    },
    {
      "cell_type": "code",
      "source": [
        "# test 를 해보자\n",
        "\n",
        "with torch.no_grad():\n",
        "  X_test = mnist_test.data.view(len(mnist_test), 1,28,28).float().to(device) # 여기서 왜 한방에 쭊 늘리는걸까요? batch_size 만큼 안넣고\n",
        "  Y_test = mnist_test.targets.to(device)\n",
        "\n",
        "  prediction = model(X_test)\n",
        "  correct_prediction = torch.argmax(prediction,1) == Y_test\n",
        "  accuracy = correct_prediction.float().mean()\n",
        "  print(f'Accuracy : {accuracy.item()}')\n",
        "\n",
        "  "
      ],
      "metadata": {
        "colab": {
          "base_uri": "https://localhost:8080/"
        },
        "id": "FSaAUG0RlDWQ",
        "outputId": "a830524f-3344-4855-b3af-a1a13fea6b1f"
      },
      "execution_count": 94,
      "outputs": [
        {
          "output_type": "stream",
          "name": "stdout",
          "text": [
            "Accuracy : 0.9883000254631042\n"
          ]
        }
      ]
    },
    {
      "cell_type": "markdown",
      "source": [
        "#### 실습2.\n",
        "---\n"
      ],
      "metadata": {
        "id": "l2G2BeBvrRB4"
      }
    },
    {
      "cell_type": "code",
      "source": [
        "# 더 깊은 모델로 CNN을 적용해보자\n",
        "\n",
        "class CNN2(nn.Module):\n",
        "  def __init__(self):\n",
        "    super(CNN2, self).__init__()\n",
        "\n",
        "    self.conv1 = nn.Sequential(\n",
        "        nn.Conv2d(1, 32, kernel_size = 3,stride=1, padding = 1),\n",
        "        nn.ReLU(), \n",
        "        nn.MaxPool2d(kernel_size = 2, stride=2 ) # 반으로 줄이기\n",
        "    )\n",
        "    self.conv2 = nn.Sequential(\n",
        "        nn.Conv2d(32, 64, kernel_size= 3, stride= 1, padding= 1 ),\n",
        "        nn.ReLU(), \n",
        "        nn.MaxPool2d(kernel_size =2 , stride= 2) \n",
        "    )\n",
        "    self.conv3 = nn.Sequential(\n",
        "        nn.Conv2d(64, 128, kernel_size = 3, stride=1 ,padding=1 ),\n",
        "        nn.ReLU(),\n",
        "        nn.MaxPool2d(kernel_size=2 , stride = 2 , padding=1)\n",
        "    )\n",
        "    # 차원 계산 --> \n",
        "    self.fc1 = nn.Linear( 4 * 4 * 128, 625, bias=True)\n",
        "    nn.init.xavier_uniform_(self.fc1.weight) # 가중치 초기화\n",
        "    \n",
        "    self.layer4 =nn.Sequential(\n",
        "        self.fc1,\n",
        "        nn.ReLU(),\n",
        "        nn.Dropout(0.5)\n",
        "    )\n",
        "    self.fc2 = nn.Linear(625, 10 ,bias= True)\n",
        "    nn.init.xavier_uniform_(self.fc2.weight) # 가중치 초기화\n",
        "\n",
        "  def forward(self, x ):\n",
        "    x = self.conv1(x)\n",
        "    x = self.conv2(x)\n",
        "    x = self.conv3(x)\n",
        "\n",
        "    x = x.view(x.size(0), -1) # fc 들어가기전에 Flatten \n",
        "    x = self.layer4(x)\n",
        "    x = self.fc2(x)\n",
        "    return x\n",
        "\n",
        "\n",
        "\n"
      ],
      "metadata": {
        "id": "Nr4UReSXrYeO"
      },
      "execution_count": 125,
      "outputs": []
    },
    {
      "cell_type": "code",
      "source": [
        "model= CNN2().to(device)"
      ],
      "metadata": {
        "id": "PV1QeetoxuTJ"
      },
      "execution_count": 126,
      "outputs": []
    },
    {
      "cell_type": "code",
      "source": [
        "# loss / optimizer\n",
        "\n",
        "criterion = nn.CrossEntropyLoss()\n",
        "optimizer = optim.Adam(model.parameters(), lr=learning_rate)"
      ],
      "metadata": {
        "id": "H19N0ZC1yVmp"
      },
      "execution_count": 127,
      "outputs": []
    },
    {
      "cell_type": "code",
      "source": [
        "total_batch = len(data_loader)\n",
        "print(total_batch)"
      ],
      "metadata": {
        "colab": {
          "base_uri": "https://localhost:8080/"
        },
        "id": "NFASpqOqyflX",
        "outputId": "2b9a312c-4256-4683-a218-64e44351f062"
      },
      "execution_count": 128,
      "outputs": [
        {
          "output_type": "stream",
          "name": "stdout",
          "text": [
            "600\n"
          ]
        }
      ]
    },
    {
      "cell_type": "code",
      "source": [
        "for epoch in range(training_epochs):\n",
        "  avg_cost = 0\n",
        "  for X , Y in data_loader:\n",
        "    X = X.to(device)\n",
        "    Y = Y.to(device)\n",
        "\n",
        "    optimizer.zero_grad()\n",
        "\n",
        "    prediction = model(X)\n",
        "    cost = criterion(prediction, Y)\n",
        "    cost.backward()\n",
        "\n",
        "    optimizer.step()\n",
        "\n",
        "    avg_cost += cost / total_batch\n",
        "  print('[Epoch: {:>4}] cost = {:>.9}'.format(epoch + 1, avg_cost))\n",
        "  \n",
        "\n",
        "    \n"
      ],
      "metadata": {
        "colab": {
          "base_uri": "https://localhost:8080/"
        },
        "id": "JV-VMpS3xynP",
        "outputId": "a7abe355-5dfb-47e1-afd6-c828268f05ad"
      },
      "execution_count": 129,
      "outputs": [
        {
          "output_type": "stream",
          "name": "stdout",
          "text": [
            "[Epoch:    1] cost = 0.188857481\n",
            "[Epoch:    2] cost = 0.0509225689\n",
            "[Epoch:    3] cost = 0.03520092\n",
            "[Epoch:    4] cost = 0.0281332638\n",
            "[Epoch:    5] cost = 0.0234673973\n",
            "[Epoch:    6] cost = 0.019671781\n",
            "[Epoch:    7] cost = 0.0165314022\n",
            "[Epoch:    8] cost = 0.0134264324\n",
            "[Epoch:    9] cost = 0.0113216089\n",
            "[Epoch:   10] cost = 0.0111554665\n",
            "[Epoch:   11] cost = 0.011205147\n",
            "[Epoch:   12] cost = 0.00892508216\n",
            "[Epoch:   13] cost = 0.00821020454\n",
            "[Epoch:   14] cost = 0.00740176393\n",
            "[Epoch:   15] cost = 0.00769690098\n"
          ]
        }
      ]
    },
    {
      "cell_type": "code",
      "source": [
        "# 테스트\n",
        "# model.eval() 로 안해도 되는건가요!? \n",
        "\n",
        "with torch.no_grad():\n",
        "  model.eval()\n",
        "\n",
        "  X_test = mnist_test.data.view(len(mnist_test), 1,28,28).float().to(device)\n",
        "  Y_test = mnist_test.targets.to(device)\n",
        "\n",
        "  prediction = model(X_test)\n",
        "  correct_prediction = torch.argmax(prediction, 1) == Y_test\n",
        "  accuracy = correct_prediction.float().mean()\n",
        "  print(f'Accuracy :{accuracy.item():.2%}')"
      ],
      "metadata": {
        "colab": {
          "base_uri": "https://localhost:8080/"
        },
        "id": "XmovUtbTyySQ",
        "outputId": "2fb21df6-f137-409c-e905-546dc63841ad"
      },
      "execution_count": 134,
      "outputs": [
        {
          "output_type": "stream",
          "name": "stdout",
          "text": [
            "Accuracy :98.84%\n"
          ]
        }
      ]
    },
    {
      "cell_type": "code",
      "source": [
        ""
      ],
      "metadata": {
        "id": "rIr5_khO0iZZ"
      },
      "execution_count": null,
      "outputs": []
    }
  ]
}