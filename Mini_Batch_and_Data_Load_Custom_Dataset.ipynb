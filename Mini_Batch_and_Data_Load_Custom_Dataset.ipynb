{
  "nbformat": 4,
  "nbformat_minor": 0,
  "metadata": {
    "colab": {
      "name": "Mini Batch and Data Load / Custom Dataset.ipynb",
      "provenance": [],
      "collapsed_sections": [],
      "toc_visible": true,
      "authorship_tag": "ABX9TyOWn4ZW2XoW3kLS0LE0rg54",
      "include_colab_link": true
    },
    "kernelspec": {
      "name": "python3",
      "display_name": "Python 3"
    },
    "language_info": {
      "name": "python"
    }
  },
  "cells": [
    {
      "cell_type": "markdown",
      "metadata": {
        "id": "view-in-github",
        "colab_type": "text"
      },
      "source": [
        "<a href=\"https://colab.research.google.com/github/MartinPSE/PyTorch_Basic/blob/main/Mini_Batch_and_Data_Load_Custom_Dataset.ipynb\" target=\"_parent\"><img src=\"https://colab.research.google.com/assets/colab-badge.svg\" alt=\"Open In Colab\"/></a>"
      ]
    },
    {
      "cell_type": "markdown",
      "source": [
        "## 1. 미니 배치와 배치 크기 ( Mini Batch and Batch Size )"
      ],
      "metadata": {
        "id": "3dTFb1HtKnT0"
      }
    },
    {
      "cell_type": "code",
      "source": [
        "import torch\n",
        "\n",
        "x_train = torch.FloatTensor([[73, 80, 75],\n",
        "                             [93, 88, 93],\n",
        "                             [89, 91, 90],\n",
        "                             [96, 98, 100],\n",
        "                             [73, 66, 70]])\n",
        "y_train = torch.FloatTensor([[152], [185], [180], [196], [142]])\n",
        "\n",
        "# 수많은 데이터를 더 작은 단위로 나누어서 해당 단위로 학습하는 개념! \n",
        "# 이 단위를 미니 배치 (Mini Batch) "
      ],
      "metadata": {
        "id": "-DBHXGOuKv49"
      },
      "execution_count": 2,
      "outputs": []
    },
    {
      "cell_type": "markdown",
      "source": [
        "![image.png](data:image/png;base64,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)"
      ],
      "metadata": {
        "id": "igENN-FhKxIN"
      }
    },
    {
      "cell_type": "markdown",
      "source": [
        "이렇게 MiniBatch를 다 돌게되면 1epoch를 도는것이다. <br>\n",
        "미니 배치의 개수는 결국 미니 배치의 크기를 몇으로 하느냐에 따라서 달라지는데 미니 배치의 크기를 **배치 크기(batch size)** 라고 한다. "
      ],
      "metadata": {
        "id": "ek7iX1iQK6WU"
      }
    },
    {
      "cell_type": "markdown",
      "source": [
        "* 전체 데이터에 대해서 한 번에 경사 하강법을 수행하는 방밥을 '배치 경사 하강법'이라고 부르며, 미니 배치 단위로 경사 하강법을 수행하는 방법을 '미니 배치 경사 하강법'이라고 한다.\n",
        "\n",
        "* 물론 배치 경사하강법을 하면 좋은데, 시간이 너무 오래걸린다. <br> 그래서 미니 배치 경사하강법을 사용하지만, Local Minumum을 찾는데 조금 헤매지만 훨씬 시간이 빠르다 .\n",
        "\n",
        "* BatchSize는 보통 2의 제곱수를 사용한다. <br>\n",
        "CPU와 GPU의 메모리가 2의 배수이므로 배치크기가 2의 제곱수일 경우에 데이터 송수신의 효율을 높일 수 있다고 한다."
      ],
      "metadata": {
        "id": "gnG8SZ9hLOgn"
      }
    },
    {
      "cell_type": "markdown",
      "source": [
        "## 2. 이터레이션 (iteraion)\n",
        "---\n",
        "  "
      ],
      "metadata": {
        "id": "CYQB7QqfLfn-"
      }
    },
    {
      "cell_type": "markdown",
      "source": [
        "![image.png](data:image/png;base64,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)"
      ],
      "metadata": {
        "id": "tQ_MYWXpL29S"
      }
    },
    {
      "cell_type": "markdown",
      "source": [
        "그림을 보면 단번에 이해가 간다. iteration은 1 epoch 안에서 몇번의 Batch_size를 순회하는지를 생각해보면 된다. <br>\n",
        "**즉 1번의 Epoch 내에서 매개변수의 업데이트 횟수**"
      ],
      "metadata": {
        "id": "ofDSMC2lL5Pq"
      }
    },
    {
      "cell_type": "markdown",
      "source": [
        "## 3. 데이터 로드하기 ( Data Load)\n",
        "---\n",
        "  데이터를 좀 더 쉽게 다를 수 있도록 유용한 도구로, Dataset 과 DataLoader를 제공한다. <br>\n",
        "  DataSet을 정의하고 --> 이를 DataLoader에 전달 ."
      ],
      "metadata": {
        "id": "JHvLv0G8MC6b"
      }
    },
    {
      "cell_type": "code",
      "source": [
        "# 연습\n",
        "\n",
        "import torch \n",
        "import torch.nn as nn\n",
        "import torch.nn.functional as F\n",
        "import torch.optim as optim\n",
        "\n",
        "\n",
        "from torch.utils.data import TensorDataset # 텐서데이터셋 (예제)\n",
        "from torch.utils.data import DataLoader # 데이터 로더\n",
        "from torch.utils.data import Dataset\n"
      ],
      "metadata": {
        "id": "4yaqQ3bZMfBm"
      },
      "execution_count": 69,
      "outputs": []
    },
    {
      "cell_type": "code",
      "source": [
        "x_train  =  torch.FloatTensor([[73,  80,  75], \n",
        "                               [93,  88,  93], \n",
        "                               [89,  91,  90], \n",
        "                               [96,  98,  100],   \n",
        "                               [73,  66,  70]])  \n",
        "y_train  =  torch.FloatTensor([[152],  [185],  [180],  [196],  [142]])"
      ],
      "metadata": {
        "id": "c5iY-F3CMv8R"
      },
      "execution_count": 70,
      "outputs": []
    },
    {
      "cell_type": "code",
      "source": [
        "dataset = TensorDataset(x_train, y_train)"
      ],
      "metadata": {
        "id": "qhpsODowM0oU"
      },
      "execution_count": 71,
      "outputs": []
    },
    {
      "cell_type": "markdown",
      "source": [
        "이렇게 데이터셋을 만들고, DataLoader에게 넘겨보자. <br>\n",
        "DataLoader는 기본적으로 2개의 인자를 입력받는다. 하나는 데이터셋, 미니배치의 크기를 입력받는다. <br>\n",
        "이때 미니 배치의 크기는 통상적으로 **2의 배수**를 사용한다. <br> 그리고 추가적으로 Epoch 마다 데이터셋을 섞어서 데이터가 학습되는 순서를 바꾸는 shuffle 옵션을 자주 사용한다. "
      ],
      "metadata": {
        "id": "gJ62BZRCM3CT"
      }
    },
    {
      "cell_type": "markdown",
      "source": [
        "모델이 문제에 익숙해지지 않기 위해선, shuffle = True를 주는 것을 권장한다."
      ],
      "metadata": {
        "id": "HnFdSHv1NIfG"
      }
    },
    {
      "cell_type": "code",
      "source": [
        "# dataloader\n",
        "\n",
        "dataloader = DataLoader(dataset, batch_size= 2, shuffle = True)"
      ],
      "metadata": {
        "id": "srv3vG4SNQsq"
      },
      "execution_count": 72,
      "outputs": []
    },
    {
      "cell_type": "code",
      "source": [
        "model = nn.Linear(3,1)\n",
        "optimizer = optim.SGD(model.parameters(), lr = 1e-5)"
      ],
      "metadata": {
        "id": "4NZhYTEZNXVJ"
      },
      "execution_count": 73,
      "outputs": []
    },
    {
      "cell_type": "code",
      "source": [
        "epochs = 500\n",
        "\n",
        "for epoch in range(epochs + 1 ):\n",
        "  for batch_idx, samples in enumerate(dataloader): # batch 별 / sample 을 데이터 로더가 뽑아내준다.\n",
        "    # print(f'{batch_idx} 번째  batch , 그때의 Dataset{samples}' )\n",
        "  \n",
        "    x_train, y_train = samples\n",
        "    prediction = model(x_train)\n",
        "\n",
        "  # cost \n",
        "    cost = F.mse_loss(prediction, y_train)\n",
        "\n",
        "  # parameter tunning\n",
        "    optimizer.zero_grad() # 초기화\n",
        "    cost.backward() # gradient descent\n",
        "    optimizer.step() # 새로 할당\n",
        "\n",
        "  if epoch % 50 == 0: # overfitting 이 일어남을 확인할 수 있지롱\n",
        "    print(f'{epoch} / {epochs}, Cost : {cost:.4f}')\n",
        "\n",
        "  "
      ],
      "metadata": {
        "colab": {
          "base_uri": "https://localhost:8080/"
        },
        "id": "qsNWZYEZNfKi",
        "outputId": "7cf79ba5-db00-474f-c35f-f27bf007d380"
      },
      "execution_count": 74,
      "outputs": [
        {
          "output_type": "stream",
          "name": "stdout",
          "text": [
            "0 / 500, Cost : 2646.4036\n",
            "50 / 500, Cost : 0.7690\n",
            "100 / 500, Cost : 6.3051\n",
            "150 / 500, Cost : 6.5232\n",
            "200 / 500, Cost : 4.3385\n",
            "250 / 500, Cost : 0.6311\n",
            "300 / 500, Cost : 2.9748\n",
            "350 / 500, Cost : 1.9972\n",
            "400 / 500, Cost : 0.9923\n",
            "450 / 500, Cost : 1.4424\n",
            "500 / 500, Cost : 3.0353\n"
          ]
        }
      ]
    },
    {
      "cell_type": "code",
      "source": [
        "# 임의의 입력 [73, 80, 75]를 선언\n",
        "new_var =  torch.FloatTensor([[73, 80, 75]]) \n",
        "# 입력한 값 [73, 80, 75]에 대해서 예측값 y를 리턴받아서 pred_y에 저장\n",
        "pred_y = model(new_var) \n",
        "print(\"훈련 후 입력이 73, 80, 75일 때의 예측값 :\", pred_y) "
      ],
      "metadata": {
        "colab": {
          "base_uri": "https://localhost:8080/"
        },
        "id": "UDjiCT7ZOM9w",
        "outputId": "9191d9b0-ea24-442f-ea6f-b9e822c838c1"
      },
      "execution_count": 75,
      "outputs": [
        {
          "output_type": "stream",
          "name": "stdout",
          "text": [
            "훈련 후 입력이 73, 80, 75일 때의 예측값 : tensor([[153.5135]], grad_fn=<AddmmBackward0>)\n"
          ]
        }
      ]
    },
    {
      "cell_type": "markdown",
      "source": [
        "## 4. 커스텀 데이터셋(Custom Dataset)\n",
        "---\n",
        "  기본적인 사용방법은 우리의 데이터를 DataSet 과 DataLoader에 맞게끔 만들어주면 된다. <br>\n",
        "  torch.utils.data.Dataset을 상속받아서 만들어보자.  <br>\n",
        "  가장 기본적인 뼈대는 3가지 define을 정의해야한다. "
      ],
      "metadata": {
        "id": "hUivRxA4OxJJ"
      }
    },
    {
      "cell_type": "code",
      "source": [
        "class CustomDataset(Dataset):\n",
        "  # class 초기화 즉 데이터셋 전처리\n",
        "  def __init__(self): \n",
        "    self.x_data = [[73, 80, 75],\n",
        "                    [93, 88, 93],\n",
        "                    [89, 91, 90],\n",
        "                    [96, 98, 100],\n",
        "                    [73, 66, 70]]\n",
        "\n",
        "    self.y_data = [[152], [185], [180], [196], [142]]\n",
        "  # dataset 길이, 총 Sample의 수 \n",
        "  def __len__(self): \n",
        "    return len(self.x_data)\n",
        "\n",
        " # Dataset에서 특정 1개의 샘플을 가져오는 함수\n",
        "  def __getitem__(self, idx):\n",
        "    x = torch.FloatTensor(self.x_data[idx])\n",
        "    y = torch.FloatTensor(self.y_data[idx])\n",
        "    return x,y "
      ],
      "metadata": {
        "id": "w5UaQoC8O97M"
      },
      "execution_count": 112,
      "outputs": []
    },
    {
      "cell_type": "markdown",
      "source": [
        "* len(dataset)을 했을 때 데이터셋의 크기를 리턴할 **len**\n",
        "* dataset[i]을 했을 때 i번째 샘플을 가져오도록 하는 인덱싱을 위한 **get_item**"
      ],
      "metadata": {
        "id": "m0fnYPI6Qj0J"
      }
    },
    {
      "cell_type": "code",
      "source": [
        "dataset = CustomDataset()\n",
        "\n",
        "dataloader = DataLoader(dataset, batch_size = 2, shuffle= True)\n"
      ],
      "metadata": {
        "id": "gGlz4YtfQtRE"
      },
      "execution_count": 113,
      "outputs": []
    },
    {
      "cell_type": "code",
      "source": [
        "model = nn.Linear(3,1)\n",
        "optimizer = optim.SGD(model.parameters(), lr= 1e-5)"
      ],
      "metadata": {
        "id": "XoBIUK7ySvaT"
      },
      "execution_count": 114,
      "outputs": []
    },
    {
      "cell_type": "code",
      "source": [
        "epochs = 20\n",
        "for epoch in range(epochs + 1):\n",
        "  for batch_idx, samples in enumerate(dataloader):\n",
        "    x_train, y_train = samples\n",
        "    \n",
        "    prediction = model(x_train)\n",
        "\n",
        "    cost = F.mse_loss(prediction, y_train)\n",
        "\n",
        "    optimizer.zero_grad() # 초기화\n",
        "    cost.backward() # cost를 minimum 으로 gradient descent\n",
        "    optimizer.step() # optimizer Tunning!\n",
        "\n",
        "\n",
        "    print('Epoch {:4d}/{} Batch {}/{} Cost: {:.6f}'.format(\n",
        "        epoch, epochs, batch_idx+1, len(dataloader),\n",
        "        cost.item()\n",
        "        ))\n",
        "\n",
        "\n",
        "\n"
      ],
      "metadata": {
        "colab": {
          "base_uri": "https://localhost:8080/"
        },
        "id": "m5jk80WhTbUU",
        "outputId": "b366cb50-b0ec-4bf9-e580-530a27b8ab00"
      },
      "execution_count": 116,
      "outputs": [
        {
          "output_type": "stream",
          "name": "stdout",
          "text": [
            "Epoch    0/20 Batch 1/3 Cost: 7.563790\n",
            "Epoch    0/20 Batch 2/3 Cost: 6.979338\n",
            "Epoch    0/20 Batch 3/3 Cost: 25.129562\n",
            "Epoch    1/20 Batch 1/3 Cost: 7.678989\n",
            "Epoch    1/20 Batch 2/3 Cost: 7.321282\n",
            "Epoch    1/20 Batch 3/3 Cost: 24.267830\n",
            "Epoch    2/20 Batch 1/3 Cost: 13.193783\n",
            "Epoch    2/20 Batch 2/3 Cost: 4.659960\n",
            "Epoch    2/20 Batch 3/3 Cost: 10.804486\n",
            "Epoch    3/20 Batch 1/3 Cost: 19.465157\n",
            "Epoch    3/20 Batch 2/3 Cost: 11.910372\n",
            "Epoch    3/20 Batch 3/3 Cost: 0.751908\n",
            "Epoch    4/20 Batch 1/3 Cost: 20.993603\n",
            "Epoch    4/20 Batch 2/3 Cost: 11.094796\n",
            "Epoch    4/20 Batch 3/3 Cost: 0.641715\n",
            "Epoch    5/20 Batch 1/3 Cost: 21.229725\n",
            "Epoch    5/20 Batch 2/3 Cost: 7.971321\n",
            "Epoch    5/20 Batch 3/3 Cost: 4.737278\n",
            "Epoch    6/20 Batch 1/3 Cost: 16.037376\n",
            "Epoch    6/20 Batch 2/3 Cost: 7.670267\n",
            "Epoch    6/20 Batch 3/3 Cost: 1.573238\n",
            "Epoch    7/20 Batch 1/3 Cost: 8.083278\n",
            "Epoch    7/20 Batch 2/3 Cost: 2.424754\n",
            "Epoch    7/20 Batch 3/3 Cost: 28.807684\n",
            "Epoch    8/20 Batch 1/3 Cost: 8.802688\n",
            "Epoch    8/20 Batch 2/3 Cost: 15.674273\n",
            "Epoch    8/20 Batch 3/3 Cost: 6.799922\n",
            "Epoch    9/20 Batch 1/3 Cost: 2.086352\n",
            "Epoch    9/20 Batch 2/3 Cost: 17.007330\n",
            "Epoch    9/20 Batch 3/3 Cost: 10.590091\n",
            "Epoch   10/20 Batch 1/3 Cost: 7.141900\n",
            "Epoch   10/20 Batch 2/3 Cost: 13.034819\n",
            "Epoch   10/20 Batch 3/3 Cost: 4.545310\n",
            "Epoch   11/20 Batch 1/3 Cost: 4.454181\n",
            "Epoch   11/20 Batch 2/3 Cost: 8.149930\n",
            "Epoch   11/20 Batch 3/3 Cost: 22.780607\n",
            "Epoch   12/20 Batch 1/3 Cost: 4.911788\n",
            "Epoch   12/20 Batch 2/3 Cost: 11.844083\n",
            "Epoch   12/20 Batch 3/3 Cost: 24.361130\n",
            "Epoch   13/20 Batch 1/3 Cost: 7.068784\n",
            "Epoch   13/20 Batch 2/3 Cost: 21.529797\n",
            "Epoch   13/20 Batch 3/3 Cost: 2.370780\n",
            "Epoch   14/20 Batch 1/3 Cost: 14.559467\n",
            "Epoch   14/20 Batch 2/3 Cost: 3.092548\n",
            "Epoch   14/20 Batch 3/3 Cost: 13.763584\n",
            "Epoch   15/20 Batch 1/3 Cost: 10.375624\n",
            "Epoch   15/20 Batch 2/3 Cost: 6.002540\n",
            "Epoch   15/20 Batch 3/3 Cost: 20.355743\n",
            "Epoch   16/20 Batch 1/3 Cost: 5.299691\n",
            "Epoch   16/20 Batch 2/3 Cost: 12.794477\n",
            "Epoch   16/20 Batch 3/3 Cost: 11.904690\n",
            "Epoch   17/20 Batch 1/3 Cost: 7.797429\n",
            "Epoch   17/20 Batch 2/3 Cost: 2.536827\n",
            "Epoch   17/20 Batch 3/3 Cost: 28.252819\n",
            "Epoch   18/20 Batch 1/3 Cost: 8.415843\n",
            "Epoch   18/20 Batch 2/3 Cost: 6.344620\n",
            "Epoch   18/20 Batch 3/3 Cost: 20.675043\n",
            "Epoch   19/20 Batch 1/3 Cost: 5.721745\n",
            "Epoch   19/20 Batch 2/3 Cost: 19.901569\n",
            "Epoch   19/20 Batch 3/3 Cost: 7.631642\n",
            "Epoch   20/20 Batch 1/3 Cost: 2.412181\n",
            "Epoch   20/20 Batch 2/3 Cost: 25.677879\n",
            "Epoch   20/20 Batch 3/3 Cost: 3.820839\n"
          ]
        }
      ]
    },
    {
      "cell_type": "code",
      "source": [
        "# 임의의 입력 [73, 80, 75]를 선언\n",
        "new_var =  torch.FloatTensor([[73, 80, 75]]) \n",
        "# 입력한 값 [73, 80, 75]에 대해서 예측값 y를 리턴받아서 pred_y에 저장\n",
        "pred_y = model(new_var) \n",
        "print(\"훈련 후 입력이 73, 80, 75일 때의 예측값 :\", pred_y) "
      ],
      "metadata": {
        "colab": {
          "base_uri": "https://localhost:8080/"
        },
        "id": "DKuNB0O8W1Cf",
        "outputId": "b019f9be-2e55-4d80-edf2-b6673b7c51b3"
      },
      "execution_count": 117,
      "outputs": [
        {
          "output_type": "stream",
          "name": "stdout",
          "text": [
            "훈련 후 입력이 73, 80, 75일 때의 예측값 : tensor([[154.2132]], grad_fn=<AddmmBackward0>)\n"
          ]
        }
      ]
    },
    {
      "cell_type": "code",
      "source": [
        ""
      ],
      "metadata": {
        "id": "lTJ3vP_BXP-C"
      },
      "execution_count": null,
      "outputs": []
    }
  ]
}