{
  "nbformat": 4,
  "nbformat_minor": 0,
  "metadata": {
    "colab": {
      "name": "Python_Class.ipynb",
      "provenance": [],
      "machine_shape": "hm",
      "authorship_tag": "ABX9TyNY6FSQlx0Wk0B7nIkX+yLY",
      "include_colab_link": true
    },
    "kernelspec": {
      "name": "python3",
      "display_name": "Python 3"
    },
    "language_info": {
      "name": "python"
    }
  },
  "cells": [
    {
      "cell_type": "markdown",
      "metadata": {
        "id": "view-in-github",
        "colab_type": "text"
      },
      "source": [
        "<a href=\"https://colab.research.google.com/github/MartinPSE/PyTorch_Basic/blob/main/Python_Class.ipynb\" target=\"_parent\"><img src=\"https://colab.research.google.com/assets/colab-badge.svg\" alt=\"Open In Colab\"/></a>"
      ]
    },
    {
      "cell_type": "markdown",
      "source": [
        "## 1. 함수(function)과 클래스(Class)의 차이\n",
        "---"
      ],
      "metadata": {
        "id": "d7ou58r_uqMJ"
      }
    },
    {
      "cell_type": "markdown",
      "source": [
        "###  1. 함수(function)로 덧셈기 구현하기\n"
      ],
      "metadata": {
        "id": "X91EOv6UvE4d"
      }
    },
    {
      "cell_type": "code",
      "source": [
        "result = 0\n",
        "\n",
        "def add(num):\n",
        "  global result # result 가져오자\n",
        "  result += num\n",
        "  return result "
      ],
      "metadata": {
        "id": "9Y040ZZYuy_e"
      },
      "execution_count": 1,
      "outputs": []
    },
    {
      "cell_type": "code",
      "source": [
        "add(5)"
      ],
      "metadata": {
        "colab": {
          "base_uri": "https://localhost:8080/"
        },
        "id": "zfW5IYGQu3wa",
        "outputId": "1a258364-4906-485f-a43e-c6a6662db6f7"
      },
      "execution_count": 3,
      "outputs": [
        {
          "output_type": "execute_result",
          "data": {
            "text/plain": [
              "8"
            ]
          },
          "metadata": {},
          "execution_count": 3
        }
      ]
    },
    {
      "cell_type": "markdown",
      "source": [
        "### 2. 함수(function)로 두 개의 덧셈기 구현하기\n"
      ],
      "metadata": {
        "id": "1RLTLYruu9Xl"
      }
    },
    {
      "cell_type": "code",
      "source": [
        "result1 = 0\n",
        "result2 = 0\n",
        "\n",
        "def add(num):\n",
        "  global result1\n",
        "  result1 += num\n",
        "  return result1\n",
        "\n",
        "def add2(num):\n",
        "  global result2\n",
        "  result2 += num \n",
        "  return result2\n",
        "\n",
        "\n",
        "print(add(3))\n",
        "print(add2(4))\n",
        "print(add(5))\n",
        "print(add2(10))"
      ],
      "metadata": {
        "colab": {
          "base_uri": "https://localhost:8080/"
        },
        "id": "Vi4L8feMvIxe",
        "outputId": "2124355a-3beb-4542-d63d-c47c8bc1062a"
      },
      "execution_count": 8,
      "outputs": [
        {
          "output_type": "stream",
          "name": "stdout",
          "text": [
            "3\n",
            "4\n",
            "8\n",
            "14\n"
          ]
        }
      ]
    },
    {
      "cell_type": "markdown",
      "source": [
        "### 3. 클래스(class)로 덧셈기 구현하기\n"
      ],
      "metadata": {
        "id": "pHXXXDzpvYFl"
      }
    },
    {
      "cell_type": "code",
      "source": [
        "class Calculator:\n",
        "  def __init__(self): # Class 생성시 호출될 때 실행되는 초기화 함수. 이를 생성자라고한다.\n",
        "    self.result = 0\n",
        "  \n",
        "  def add(self, num):\n",
        "    self.result += num\n",
        "    return self.result\n"
      ],
      "metadata": {
        "id": "eXxJjhXDxbfH"
      },
      "execution_count": 9,
      "outputs": []
    },
    {
      "cell_type": "markdown",
      "source": [
        "클래스는 붕어빵 틀이라고 생각하면 된다. "
      ],
      "metadata": {
        "id": "-I7pnLrnxsLf"
      }
    },
    {
      "cell_type": "code",
      "source": [
        "cal1= Calculator()"
      ],
      "metadata": {
        "id": "afMVV264xvWc"
      },
      "execution_count": 10,
      "outputs": []
    },
    {
      "cell_type": "code",
      "source": [
        "cal2= Calculator()"
      ],
      "metadata": {
        "id": "rMvSy-f9xxlc"
      },
      "execution_count": 11,
      "outputs": []
    },
    {
      "cell_type": "code",
      "source": [
        "print('cal : ' , cal1.add(1) )\n",
        "print('cal : ' , cal1.add(2))\n",
        "\n",
        "print('cal2 : ' , cal2.add(3))\n",
        "print('cal2 : ' , cal2.add(4))\n"
      ],
      "metadata": {
        "colab": {
          "base_uri": "https://localhost:8080/"
        },
        "id": "A_tbzqgIxzOk",
        "outputId": "4a566bce-727f-445d-8460-e9f34373513c"
      },
      "execution_count": 14,
      "outputs": [
        {
          "output_type": "stream",
          "name": "stdout",
          "text": [
            "cal :  1\n",
            "cal :  3\n",
            "cal2 :  3\n",
            "cal2 :  7\n"
          ]
        }
      ]
    },
    {
      "cell_type": "markdown",
      "source": [
        "* 함수를 만드는 것보다 훨씬 더 간결하게 독립적으로 연산이 가능하다."
      ],
      "metadata": {
        "id": "DTSPqYF0x-8U"
      }
    },
    {
      "cell_type": "code",
      "source": [
        ""
      ],
      "metadata": {
        "id": "hCaaNje8yJnU"
      },
      "execution_count": null,
      "outputs": []
    }
  ]
}